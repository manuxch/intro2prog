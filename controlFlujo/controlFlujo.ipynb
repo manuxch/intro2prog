{
 "cells": [
  {
   "cell_type": "markdown",
   "metadata": {},
   "source": [
    "# Control de flujo"
   ]
  },
  {
   "cell_type": "markdown",
   "metadata": {},
   "source": [
    "Para implementar un algoritmo en un programa, suele ser necesario realizar operaciones que alteran el flujo secuencial de un programa. Estas alteraciones se dividen principalmente en:\n",
    "\n",
    "- Bifurcaciones: según alguna condición, ejecutar un bloque de instrucciones u otro.\n",
    "- Repeticiones: ejecutar repetidamente un bloque de código hasta que se verifique una condición.\n",
    "\n",
    "En este notebook exploraremos bifurcaciones y repeticiones con `if`/`elif`/`else` y `for`/`range`/`while`, así como la evaluación de condiciones."
   ]
  },
  {
   "cell_type": "code",
   "execution_count": null,
   "metadata": {},
   "outputs": [],
   "source": []
  }
 ],
 "metadata": {
  "kernelspec": {
   "display_name": "Python 3",
   "language": "python",
   "name": "python3"
  },
  "language_info": {
   "codemirror_mode": {
    "name": "ipython",
    "version": 3
   },
   "file_extension": ".py",
   "mimetype": "text/x-python",
   "name": "python",
   "nbconvert_exporter": "python",
   "pygments_lexer": "ipython3",
   "version": "3.7.3rc1"
  }
 },
 "nbformat": 4,
 "nbformat_minor": 2
}
