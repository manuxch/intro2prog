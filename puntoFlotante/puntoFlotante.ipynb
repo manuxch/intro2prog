{
 "cells": [
  {
   "cell_type": "markdown",
   "metadata": {},
   "source": [
    "# Aritmética de punto flotante\n",
    "\n",
    "Ejecutar este documento en forma dinámica: [![Binder](https://mybinder.org/badge_logo.svg)](https://mybinder.org/v2/gh/manuxch/intro2prog/master?filepath=variables_tipos/variablesTipos.ipynb)"
   ]
  },
  {
   "cell_type": "markdown",
   "metadata": {},
   "source": [
    "Vamos a hacer una cuenta simple:"
   ]
  },
  {
   "cell_type": "code",
   "execution_count": 1,
   "metadata": {},
   "outputs": [
    {
     "data": {
      "text/plain": [
       "5.551115123125783e-17"
      ]
     },
     "execution_count": 1,
     "metadata": {},
     "output_type": "execute_result"
    }
   ],
   "source": [
    "0.1 + 0.1 + 0.1 - 0.3"
   ]
  },
  {
   "cell_type": "markdown",
   "metadata": {},
   "source": [
    "En la matemática que aprendimos en la escuela, $a + a + a - 3 a = 0$, pero cuando ejecutamos la instrucción de arriba el valor obtenido **no es cero** (aunque es muy pequeño).\n",
    "\n",
    "Esto no es un error de Python, sino que ocurre debido a la representación interna que hacen las computadoras de los números que hace que no haya forma de representar **exactamente** valores como `0.1`. Esta representación interna es de [punto flotante](https://es.wikipedia.org/wiki/Coma_flotante) [binario](https://es.wikipedia.org/wiki/Sistema_binario). Vamos a ver primero estos conceptos, y luego los problemas que ocurren debido a esta representación finita de los números reales."
   ]
  },
  {
   "cell_type": "markdown",
   "metadata": {},
   "source": [
    "## Punto flotante decimal\n",
    "\n",
    "Dado que la memoria de las computadoras es limitada, no es posible almacenar números con precisión infinita. Por lo tanto, de algún modo es necesario realizar un corte en la secuencia de dígitos que representa un números real. Esto es algo que hacemos rutinariamente en todos nuestros cálculos. Al número $1/2$ lo podemos representar **exactamente** como `0.5`, pero al número $1/3$ podemos representarlo, con **precisión** creciente, como:\n",
    "\n",
    "|     |\n",
    "| :--- |\n",
    "|`0.3`|\n",
    "|`0.33`|\n",
    "|`0.333`|\n",
    "|`0.3333`|\n",
    "|`0.33333`|\n",
    "|`...`|\n",
    "\n",
    "La representación de punto flotante es una forma de notación científica usada en las computadoras con la cual se pueden representar números reales extremadamente grandes y pequeños de una manera muy eficiente y compacta, y con la que se pueden realizar operaciones aritméticas. El estándar actual para la representación en coma flotante es el [IEEE 754](https://es.wikipedia.org/wiki/IEEE_coma_flotante).\n",
    "\n",
    "Esta representación consiste en descomponer un número en tres partes, de la siguiente forma:\n",
    "\n",
    "$$r = (-1)^s c \\; b^e$$\n",
    "\n",
    "donde $r$ es el número que queremos representar, $s$ es el signo, $c$ es la mantisa, $b$ es la base de representación (10: decimal, 2: binario, 16: hexadecimal) y $e$ es el exponente. Por ejemplo:\n",
    "\n",
    "\\begin{align*}\n",
    "s &= 0 \\\\\n",
    "c &= 31415926 \\\\\n",
    "b &= 10 \\\\\n",
    "e &= -7 \\\\\n",
    "r &= (-1)^0 31415926 \\; 10^{(-7)} = 3.1415926\n",
    "\\end{align*}\n",
    "\n",
    "Este formato satisface los siguientes requisitos:\n",
    "\n",
    "- Puede representar números de órdenes de magnitud enormemente dispares (limitado por la longitud del exponente).\n",
    "- Proporciona la misma precisión relativa para todos los órdenes (limitado por la longitud de la mantisa).\n",
    "- Permite cálculos entre magnitudes: multiplicar un número muy grande y uno muy pequeño conserva la precisión de ambos en el resultado.\n",
    "\n",
    "Los números de punto flotante decimales se expresan normalmente en notación científica con un punto explícito siempre entre el primer y el segundo dígitos. El exponente o bien se escribe explícitamente incluyendo la base, o se usa una e (o E) para separarlo de la mantisa."
   ]
  },
  {
   "cell_type": "markdown",
   "metadata": {},
   "source": [
    "# Punto flotante binario\n",
    "\n",
    "Las computadoras utilizan el mismo formato pero binario, es decir, $b = 2$. Los formatos más utilizados son de 32 o 64 bits en total (4 u 8 bytes):\n",
    "\n",
    "|Precisión | Bits | Bits significativos | Bits del exponente | Número más pequeño | Número más grande |\n",
    "| --- | --- | --- | --- | --- | --- |\n",
    "|Simple | 32 | 23 + 1 signo | 8 | `~1.2e-38` | `~3.4e38` |\n",
    "|Doble | 64 | 52 + 1 signo | 11 | `~5.0e-324` | `~1.8e308` |\n",
    "\n",
    "Algunas características:\n",
    "\n",
    "- En la secuencia de bits, el primero es el del signo, luego el exponente y finalmente la mantisa.\n",
    "- El exponente no tiene signo, en su lugar se le resta un desplazamiento (*bias*) (127 para simple y 1023 para doble precisión). Esto, junto con la secuencia de bits, permite que los números de punto flotante se puedan comparar y ordenar correctamente incluso cuando se interpretan como enteros: $r = (-1)^s \\, c \\, b^{(e - E)}$, con $E$ denotando el *bias*.\n",
    "- Se asume que el bit más significativo de la mantisa es 1 y se omite, excepto para casos especiales.\n",
    "- Hay valores diferentes para cero positivo y cero negativo. Estos difieren en el bit del signo, mientras que todos los demás son 0. Deben ser considerados iguales aunque sus secuencias de bits sean diferentes.\n",
    "- Hay valores especiales no numéricos (NaN, *not a number* en inglés) en los que los bits del exponente son todos `1` y los de la mantisa no son todos `0`. Estos valores representan el resultado de algunas operaciones indefinidas (como multiplicar 0 por infinito, operaciones que involucren NaN, o casos específicos). Incluso valores NaN con idéntica secuencia de bits no deben ser considerados iguales.\n"
   ]
  },
  {
   "cell_type": "markdown",
   "metadata": {},
   "source": [
    "# Repaso (?): conversión de decimal a binario\n",
    "\n",
    "Para convertir un número decimal `n`, por ejemplo `2.71728` a binario con una cierta cantidad `k` de dígitos (por ejemplo 4), se deben seguir los pasos a continuación:\n",
    "\n",
    "1- Convertir la parte entera de `n` en el binario equivalente:\n",
    "    1. Dividir el número decimal por 2 y guadar el resto en una lista.\n",
    "    1. Dividir el cociente por 2.\n",
    "    1. Repetir el paso B hasta que el cociente sea 0.\n",
    "    1. El número binario equivalente resulta de la lista del paso A en orden inverso.\n",
    "    \n",
    "Divisor | Cociente | Resto\n",
    "--- | --- | ---\n",
    "2 | 1 | 0\n",
    "1 | 0 | 1\n",
    "\n",
    "$$2_{10} = 10_{2}$$\n",
    "\n",
    "2- Convertir la parte fraccionaria de `n` en el binario equivalente:\n",
    "    1. Multiplicar la parte fraccionaria decimal por 2.\n",
    "    1. La parte entera del resultado de A es el primer dígito de la parte fraccionaria binaria.\n",
    "    1. Repetir el paso 1 usando solo la parte fraccional del número y luego el paso B, hasta obtener los `k` dígitos.\n",
    "    \n",
    "| Fracción decimal | x 2 | Parte entera del resultado |\n",
    "| --- | --- | --- |\n",
    "| 0.71728 | 1.43456 | 1 |\n",
    "| 0.43456 | 0.86912 | 0 |\n",
    "| 0.86912 | 1.73824 | 1 |\n",
    "| 0.73824 | 1.47648 | 1 |\n",
    "\n",
    "$$0.71728_{10} = 1011_{2} $$\n",
    "\n",
    "3- Concatenar la parte entera binaria con la fraccionaria binaria:\n",
    "\n",
    "$$2.71728_{10} = 10.1011_{2}$$\n",
    "\n",
    "Podemos hacer un script que realice el cálculo por nosotros:"
   ]
  },
  {
   "cell_type": "code",
   "execution_count": 1,
   "metadata": {},
   "outputs": [
    {
     "name": "stdout",
     "output_type": "stream",
     "text": [
      "10.1011\n"
     ]
    }
   ],
   "source": [
    "n = 2.71728\n",
    "k = 4\n",
    "binario = ''\n",
    "entero = int(n)\n",
    "fraccional = n - entero\n",
    "# Convertimos la parte entera a su formato binario\n",
    "while(entero):\n",
    "    resto = entero % 2\n",
    "    binario += str(resto)\n",
    "    entero //= 2\n",
    "binario = binario[::-1]\n",
    "binario += '.'\n",
    "# Convertimos la parte fraccional a su formato binario\n",
    "while(k):\n",
    "    fraccional *= 2\n",
    "    fraccional_bit = int(fraccional)\n",
    "    if fraccional_bit == 1:\n",
    "        fraccional -= fraccional_bit\n",
    "        binario += '1'\n",
    "    else:\n",
    "        binario += '0'\n",
    "    k -= 1\n",
    "print(binario)"
   ]
  },
  {
   "cell_type": "markdown",
   "metadata": {},
   "source": [
    "Para volver de binario a decimal, la operación es simple. Por ejemplo, si queremos llevar el número $110.001_b$ a decimal:\n",
    "\n",
    "\n",
    "\\begin{align*}\n",
    "110.001_b &= 1 \\, 2^2 +  1 \\, 2^1 + 0 \\, 2^0 + 0 \\, 2^{-1} + 0 \\, 2^{-2} + 1 \\, 2^{-3} \\\\\n",
    "          &= 1 \\, 4 + 1 \\, 2 + 0 \\, 1 + \\frac{0}{2} + \\frac{0}{4} + \\frac{1}{8} \\\\\n",
    "          &= 6 + \\frac{1}{8} = 6.125\n",
    "\\end{align*}\n",
    "\n",
    "Podemos también hacer un script que transforme de binario a decimal, dando como entrada una string que representa el número binario:"
   ]
  },
  {
   "cell_type": "code",
   "execution_count": 17,
   "metadata": {},
   "outputs": [
    {
     "name": "stdout",
     "output_type": "stream",
     "text": [
      "110 001\n",
      "6.125\n"
     ]
    }
   ],
   "source": [
    "b = '110.001'\n",
    "d = 0\n",
    "be, bd = b.split('.')\n",
    "print(be,bd)\n",
    "for e in range(len(be)):\n",
    "    d += int(be[-(e + 1)]) * 2**(e)\n",
    "for e in range(len(bd)):\n",
    "    d += int(bd[e]) * 2**(-(e + 1))\n",
    "print(d)"
   ]
  },
  {
   "cell_type": "markdown",
   "metadata": {},
   "source": [
    "¿Qué sucede cuando queremos volver a decimal el número $10.1011_b$? ¿Por qué ocurre esto?"
   ]
  },
  {
   "cell_type": "markdown",
   "metadata": {},
   "source": [
    "\n",
    "## Errores\n",
    "\n",
    "En el transcurso del tratamiento matemático de datos debemos tratar con el problema de los errores. Existen cuatro formas en que se introducen errores en los cálculos.\n",
    "\n",
    "1. Error inherente. Estos errores provienen desde el principio en los datos originales y están fuera del alcance del control de cálculo. Pueden deberse, por ejemplo, de las incertezas inherentes al proceso de medición.\n",
    "2. Error de truncamiento. Se producen como resultado de reemplazar un proceso infinito por uno finito, tal como sucede cuando consideramos solo los primeros términos de una expansión en serie de Taylor.\n",
    "3. Error de redondeo. Estos errores provienen de la representación con presición finita de los números en una computadora (de este error nos ocuparemos aquí).\n",
    "4. Error por equivocación. Este error es causado por realizar una operación aritmética incorrectamente.\n",
    "\n",
    "Los primeros tres errores son **inevitables**, por lo que el \"problema de los errores\" no consiste en evitarlos, sino en controlar su magnitud con el propósito de obtener un resultado final lo más preciso posible. Este proceso se denomina **control de error** y consiste en estimar la propagación de los errores a través de un cómputo. Por ejemplo, queremos asegurarnos que los resultados de realizar una operación aritmética entre dos números (que intrínsecamente ya tienen un error), estén dentro de límites tolerables. Además, este error en cálculos subsecuentes también debe mantenerse bajo control.\n",
    "\n",
    "El error por equivocación es evitable, por lo que no debe ocurrir y por lo tanto no lo consideraremos en este curso."
   ]
  },
  {
   "cell_type": "markdown",
   "metadata": {},
   "source": [
    "### Error de redondeo\n",
    "\n",
    "Un número en representación entera es exacto, y por lo tanto la aritmética entre números enteros también es exacta con dos salvedades: (1) el resultado no está por afuera del rango de representación de enteros (usualmente con signo), y (2) la división se interpreta generando también un entero, y descartando todo resto (también entero).\n",
    "\n",
    "Diferentes patrones de bits pueden representar el mismo número en punto flotante. Si usamos una representación binaria, por ejemplo, una mantisa con los bits más significativos nulos puede ser *desplazada a izquierda*, es decir, multiplicado por una potencia de 2, siempre que el exponente sea disminuido por la misma cantidad. Los patrones de bits que están tan desplazados a izquierda como se pueda, se dicen que están **normalizados**. Casi todas las computadoras siempre producen resultados normalizados, dado que no se quiere desperdiciar bits para las mantisas y por lo tanto ganar en precisión en la representación. Dado que el bit de mayor orden de una matisa normalizada (en representación binaria) es **siempre** 1, algunas computadoras ni siquiera almacenan este bit, ofreciendo entonces un bit extra de significancia.\n",
    "\n",
    "La aritmética entre números en representación de punto flotante no es exacta, aún si los operandos lo son. Por ejemplo, la suma de dos números en punto flotante se realiza primero desplazando a derecha (dividiendo por dos) la mantisa del número menor (en magnitud), y incrementando simultáneamente el exponente, hasta que los dos operandos tengan el mismo exponente. Los bits menos significativos se pierden debido a este desplazamiento. Si los dos operandos difieren mucho en sus magnitudes, el operando menor es reemplazado efectivamente por cero, dado que es completamente desplazado a derecha.\n",
    "\n",
    "Por ejemplo:"
   ]
  },
  {
   "cell_type": "code",
   "execution_count": 1,
   "metadata": {},
   "outputs": [
    {
     "data": {
      "text/plain": [
       "80000.0"
      ]
     },
     "execution_count": 1,
     "metadata": {},
     "output_type": "execute_result"
    }
   ],
   "source": [
    "a = 80000\n",
    "b = 1.43E-12\n",
    "a + b"
   ]
  },
  {
   "cell_type": "markdown",
   "metadata": {},
   "source": [
    "### Error de comparación"
   ]
  },
  {
   "cell_type": "markdown",
   "metadata": {},
   "source": [
    "### Error de propagación"
   ]
  },
  {
   "cell_type": "markdown",
   "metadata": {},
   "source": [
    "---\n",
    "\n",
    "Este notebook fue preparado a partir de las siguientes fuentes:\n",
    "\n",
    "- [Lo que todo programador debería saber sobre aritmética de punto flotante](http://puntoflotante.org/).\n",
    "- [What Every Computer Scientist Should Know About Floating-Point Arithmetic](https://docs.oracle.com/cd/E19957-01/806-3568/ncg_goldberg.html).\n",
    "- [The Python tutorial: 15 - Floating Point Arithmetic: Issues and Limitations](https://docs.python.org/3/tutorial/floatingpoint.html)."
   ]
  },
  {
   "cell_type": "code",
   "execution_count": null,
   "metadata": {},
   "outputs": [],
   "source": []
  }
 ],
 "metadata": {
  "kernelspec": {
   "display_name": "Python 3",
   "language": "python",
   "name": "python3"
  },
  "language_info": {
   "codemirror_mode": {
    "name": "ipython",
    "version": 3
   },
   "file_extension": ".py",
   "mimetype": "text/x-python",
   "name": "python",
   "nbconvert_exporter": "python",
   "pygments_lexer": "ipython3",
   "version": "3.7.3rc1"
  }
 },
 "nbformat": 4,
 "nbformat_minor": 2
}
