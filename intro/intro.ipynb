{
 "cells": [
  {
   "cell_type": "markdown",
   "metadata": {},
   "source": [
    "# Introducción\n",
    "\n",
    "Ver este documento en forma estática en [nbviewer](https://nbviewer.jupyter.org/github/manuxch/intro2prog/blob/master/intro/intro.ipynb)\n",
    "\n",
    "Ejecutar este documento en forma dinámica: [![Binder](https://mybinder.org/badge_logo.svg)](https://mybinder.org/v2/gh/manuxch/intro2prog/master?filepath=intro/intro.ipynb)"
   ]
  },
  {
   "cell_type": "markdown",
   "metadata": {},
   "source": [
    "## ¿Qué hace una computadora?\n",
    "\n",
    "Si bien parece que actualmente las computadoras son capaces de realizar cualquier tarea, incluso aprender cosas que a los humanos nos cuesta mucho esfuerzo (tal como el **_machine learning_**, muy en auge en estos días), las computadoras actuales pueden realizar mucho mejor que los humanos solamente dos cosas:\n",
    "\n",
    "- Realizar cálculos matemáticos con mucha precisión y gran velocidad\n",
    "- Recordar muy bien los resultados (GB a TB de almacenamiento)\n",
    "\n",
    "Los tipos de cálculo que puede realizar una computadora son de dos tipos: aquellos que están incluidos en un lenguaje, o los que se definen en un programa.\n",
    "\n",
    "No hay que perder de vista que las computadoras hacen **solo** lo que les digamos que hagan. Esto es una ventaja en muchos sentidos, pero también son nuestra responsabilidad los resultados que obtenemos."
   ]
  },
  {
   "cell_type": "markdown",
   "metadata": {},
   "source": [
    "## ¿Qué es un programa?\n",
    "\n",
    "Un **programa** es una secuencia de instrucciones que especifica cómo realizar un cómputo. Este cómputo puede ser algo matemático, tal como resolver un sistema de ecuaciones o encontrar las raíces de un polinomio, pero también puede ser algo simbólico como buscar y reemplazar texto en un documento o construir un gráfico.\n",
    "\n",
    "Los detalles de un programa pueden tener aspectos muy diferentes en lenguajes distintos, pero algunas instrucciones básicas aparecen en todos los lenguajes:\n",
    "\n",
    "- **_input_**: Obtener datos desde el teclado, un archivo, la red o cualquier otro dispositivo.\n",
    "- **_output_**: Mostrar datos en la pantalla, guardarlos en un archivo, enviarlo a través de la red, etc.\n",
    "- **_matemática_**: Realizar operaciones matemáticas básicas como suma y multiplicación.\n",
    "- **ejecución condicional**: Evaluar alguna condición y ejecutar el código correspondiente.\n",
    "- **repetición**: Realizar alguna acción repetidamente, por lo general con alguna variación.\n",
    "\n",
    "Estas instrucciones básicas constituyen prácticamente todos los programas. Podemos pensar que programar es el proceso de descomponer una tarea compleja en tareas mas y mas pequeñas hasta que estas subtareas sean lo suficientemente simples como para ser realizadas con una de estas instrucciones básicas.\n",
    "\n",
    "Un ejemplo es el cálculo de la raíz cuadrada de un número. [Herón de Alejandría](https://en.wikipedia.org/wiki/Hero_of_Alexandria) fue el primero en documentar una forma de calcular la raíz cuadrada de un número mediante un conjunto de reglas simples. Este **programa**, para calcular $\\sqrt{x}$, puede escribirse como:\n",
    "\n",
    "1. Comenzar con una **estimación** $g$.\n",
    "2. Si *g g* está lo **suficientemente cerca** de $x$, detenerse y decir que $g$ es la respuesta.\n",
    "3. Si no, obtener una **nueva estimación** promediando $g$ y $x/g$, es decir $g_n = (g+x/g)/2$.\n",
    "4. Asignamos este promedio a $g$ y **repetimos** el proceso volviendo al punto 2.\n",
    "\n",
    "Si queremos calcular la raíz cuadrada de 16, comenzando con una estimación $g = 3$, obtenemos:\n",
    "\n",
    "<style>\n",
    "table {\n",
    "    width:100%;\n",
    "}\n",
    "</style>\n",
    "\n",
    " $g$ | $g g$ | $x/g$ | $g_n$\n",
    ":---:|:---:|:---:|:---:\n",
    " 3 | 9 | 16/3 | 4.17 \n",
    " 4.17 | 17.36 | 3.837 | 4.0035\n",
    " 4.0035| 16.0277 | 3.997 | 4.000002\n",
    "\n",
    "El siguiente código muestra una implementación en Python de la **receta**:\n",
    "\n"
   ]
  },
  {
   "cell_type": "code",
   "execution_count": 6,
   "metadata": {},
   "outputs": [
    {
     "name": "stdout",
     "output_type": "stream",
     "text": [
      "1 4.166666666666666 17.361111111111107 3.8400000000000007 1.3611111111111072\n",
      "2 4.003333333333334 16.02667777777778 3.9966694421315565 0.02667777777778113\n",
      "3 4.000001387732445 16.00001110186149 3.999998612268036 1.110186148878256e-05\n",
      "4 4.000000000000241 16.000000000001926 3.9999999999997593 1.9255708139098715e-12\n"
     ]
    }
   ],
   "source": [
    "x = 16.0\n",
    "i = 0\n",
    "g = 3.0\n",
    "while abs(g*g - x) > 1.0E-8:\n",
    "    g = (g + x/g)/2\n",
    "    i = i + 1\n",
    "    print(i, g, g*g, x/g, abs(g * g - x))\n"
   ]
  },
  {
   "cell_type": "markdown",
   "metadata": {},
   "source": [
    "Notar que la descripción del método es una secuencia de pasos simples, junto con un control de flujo que especifica cuando debe ejecutarse cada paso. Tal descripción se denomina **algoritmo**. En este caso es un ejemplo de algoritmo de \"prueba y error\", basado en el hecho de que es simple verificar cuándo una estimación es suficientemente buena.\n",
    "\n",
    "Un poco más formalmente, un algoritmo es una lista finita de instrucciones que describe un cómputo que cuando se ejecuta sobre un conjunto de entradas, procederá a través de un conjunto bien definifo de estados y eventualmente producirá una salida.\n",
    "\n",
    "Esta secuencia de instrucciones se almacena en la memoria de una computadora, y se construye a partir de un conjunto predefinido de instrucciones primitivas:\n",
    "\n",
    "1. aritméticas y lógicas\n",
    "2. evaluaciones simples\n",
    "3. movimiento de datos\n",
    "\n",
    "Un programa especial (intérprete) ejecuta cada instrucción en orden. Este orden puede alterarse utilizando evaluaciones para cambiar el flujo de control durante una secuencia, y se detiene cuando se cumple una condición de finalización.\n",
    "\n",
    "Para crear los programas, o secuencias de instrucciones, necesitamos un **lenguaje de programación** que permita comunicarle a la computadora dichas instrucciones. [Alan Turing](https://es.wikipedia.org/wiki/Alan_Turing), en 1936, describió un dispositivo hipotético de cómputo que se ha dado en llamar **Máquina Universal de Turing**, que tenía una memoria ilimitada en forma de \"cinta\" en la cual se pueden escribir ceros y unos, y unas instrucciones primitivas muy simples para mover, leer y escribir en la cinta. La tesis de **Church-Turing** afirma que si una función es computable, una Máquina de Turing puede ser programada para computarla. \n",
    "\n",
    "La tesis de Church-Turing conduce directamente a la noción de **Completitud de Turing**. Un lenguaje de programación se dice que es Turing-completo si puede utilizarse para simular una Máquina Universal de Turing. Todos los lenguajes modernos son Turing-completos, como consecuencia, cualquier cosa que pueda ser programada en un lenguaje (por ejemplo, Python), puede programarse en cualquier otro (por ejemplo C/C++). Por supuesto, algunas cosas son más fáciles de programar en un lenguaje que en otro, pero todos los lenguajes son fundamentalmente iguales con respecto de la potencia computacional.\n",
    "\n"
   ]
  },
  {
   "cell_type": "markdown",
   "metadata": {},
   "source": [
    "## ¿Qué es Python?\n",
    "\n",
    "Python es un lenguaje de programación moderno, de alto nivel, multipropósito y orientado a objetos. Algunas de sus características principales son:\n",
    "\n",
    "- **Lenguaje claro y simple**: El código es muy intuitivo y fácil de aprender. Su mantenimiento escala bien con el tamaño de los proyectos.\n",
    "- **Lenguaje expresivo**: Es posible expresar ideas en pocas líneas de código, lo que implica menos *bugs* y fácil mantenimiento.\n",
    "- **Tipado dinámico**: No es necesario definir el tipo de las variables, de los argumentos de las funciones ni de los valores devueltos.\n",
    "- **Administración automática de la memoria**: No hay necesidad explícita de asignar ni liberar espacio de memoria para variables o arrays. No hay \"goteo de memoria\" (*memory leaks*).\n",
    "- **Interpretado**: No hay necesidad de compilar el código. El intérprete de Python lee y ejecuta directamente el código."
   ]
  },
  {
   "cell_type": "code",
   "execution_count": null,
   "metadata": {},
   "outputs": [],
   "source": []
  }
 ],
 "metadata": {
  "kernelspec": {
   "display_name": "Python 3",
   "language": "python",
   "name": "python3"
  },
  "language_info": {
   "codemirror_mode": {
    "name": "ipython",
    "version": 3
   },
   "file_extension": ".py",
   "mimetype": "text/x-python",
   "name": "python",
   "nbconvert_exporter": "python",
   "pygments_lexer": "ipython3",
   "version": "3.7.3rc1"
  }
 },
 "nbformat": 4,
 "nbformat_minor": 2
}
