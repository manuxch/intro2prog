{
 "cells": [
  {
   "cell_type": "markdown",
   "metadata": {},
   "source": [
    "# Introducción"
   ]
  },
  {
   "cell_type": "markdown",
   "metadata": {},
   "source": [
    "## ¿Qué hace una computadora?\n",
    "\n",
    "Si bien parece que actualmente las computadoras son capaces de realizar cualquier tarea, incluso aprender cosas que a los humanos nos cuesta mucho esfuerzo (tal como está muy en auge actualmente el **machine learning**), las computadoras actuales pueden realizar mucho mejor que los humanos solamente dos cosas:\n",
    "\n",
    "- Realizar cálculos matemáticos con mucha precisión y gran velocidad\n",
    "- Recordar muy bien los resultados (GB a TB de almacenamiento)\n",
    "\n",
    "El tipo de cálculo que puede realizar una computadora son de dos tipos: aquéllos que están incluidos en un lenguaje, o los que se definen en un programa.\n",
    "\n",
    "No hay que perder de vista que las computadoras hacen **solo** lo que les digamos que hagan. Esto es una ventaja en muchos sentidos, pero también es nuestra responsabilidad los resultados que obtenemos."
   ]
  },
  {
   "cell_type": "markdown",
   "metadata": {},
   "source": [
    "## ¿Qué es un programa?\n",
    "\n",
    "Un **programa** es una secuencia de instrucciones que especifica cómo realizar un cómputo. Este cómputo puede ser algo matemático, tal como resolver un sistema de ecuaciones o encontrar las raíces de un polinomio, pero también puede ser algo simbólico como buscar y reemplazar texto en un documento o construir un gráfico.\n",
    "\n",
    "Los detalles de un programa pueden tener aspectos muy diferentes en lenguajes distintos, pero algunas instrucciones básicas aparecen en todos los lenguajes:\n",
    "\n",
    "- **_input_**: Obtener datos desde el teclado, un archivo, la red o cualquier otro dispositivo.\n",
    "- **_output_**: Mostrar datos en la pantalla, guardarlos en un archivo, enviarlo a través de la red, etc.\n",
    "- **_matemática_**: Realizar operaciones matemáticas básicas como suma y multiplicación.\n",
    "- **ejecución condicional**: Evaluar alguna condición y ejecutar el código correspondiente.\n",
    "- **repetición**: Realizar alguna acción repetidamente, por lo general con alguna variación.\n",
    "\n",
    "Estas instrucciones básicas constituyen prácticamente todos los programas. Podemos pensar que programar es el proceso de descomponer una tarea compleja en tareas mas y mas pequeñas hasta que estas subtareas sean lo suficientemente simples como para ser realizadas con una de estas instrucciones básicas.\n",
    "\n",
    "Un ejemplo es el cálculo de la raíz cuadrada de un número. [Herón de Alejandría](https://en.wikipedia.org/wiki/Hero_of_Alexandria) fue el primero en documentar una forma de calcular la raíz cuadrada de un número mediante un conjunto de reglas simples. Este **programa**, para calcular $\\sqrt{x}$, puede escribirse como:\n",
    "\n",
    "1. Comenzar con una **estimación** $g$.\n",
    "2. Si *g g* está lo **suficientemente cerca** de $x$, detenerse y decir que $g$ es la respuesta.\n",
    "3. Si no, obtener una **nueva estimación** promediando $g$ y $x/g$, es decir $g_n = (g+x/g)/2$.\n",
    "4. Asignamos este promedio a $g$ y **repetimos** el proceso volviendo al punto 2.\n",
    "\n",
    "Si queremos calcular la raíz cuadrada de 16, comenzando con una estimación $g = 3$, obtenemos:\n",
    "\n",
    "<style>\n",
    "table {\n",
    "    width:100%;\n",
    "}\n",
    "</style>\n",
    "\n",
    "| $g$ | $g g$ | $x/g$ | $g_n$|\n",
    "|:---:|:---:|:---:|:---:|\n",
    "| 3 | 9 | 16/3 | 4.17 |\n",
    "| 4.17 | 17.36 | 3.837 | 4.0035|\n",
    "| 4.0035| 16.0277 | 3.997 | 4.000002|\n",
    "\n",
    "\n"
   ]
  },
  {
   "cell_type": "code",
   "execution_count": null,
   "metadata": {},
   "outputs": [],
   "source": []
  }
 ],
 "metadata": {
  "kernelspec": {
   "display_name": "Python 3",
   "language": "python",
   "name": "python3"
  },
  "language_info": {
   "codemirror_mode": {
    "name": "ipython",
    "version": 3
   },
   "file_extension": ".py",
   "mimetype": "text/x-python",
   "name": "python",
   "nbconvert_exporter": "python",
   "pygments_lexer": "ipython3",
   "version": "3.7.3rc1"
  }
 },
 "nbformat": 4,
 "nbformat_minor": 2
}
