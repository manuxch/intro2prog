{
 "cells": [
  {
   "cell_type": "markdown",
   "metadata": {},
   "source": [
    "# Funciones\n",
    "\n",
    "En el contexto de la programación, las funciones son secuencias de instrucciones agrupadas, que tienen un nombre y pueden invocarse a través de él.\n",
    "\n",
    "Las partes que componen una función son:\n",
    "\n",
    "1. Un nombre, por el cual puede invocarse la función.\n",
    "2. Una lista de argumentos, que la función recibe como entrada para el cómputo que realizará.\n",
    "3. Una secuencia de instrucciones que realizan un cómputo específico.\n",
    "4. Un resultado\n",
    "\n",
    "Veamos la sintaxis de una función en Python con un ejemplo:"
   ]
  },
  {
   "cell_type": "code",
   "execution_count": 6,
   "metadata": {},
   "outputs": [],
   "source": [
    "def miPrimeraFuncion(x):\n",
    "    \"\"\"Esta es mi primera función\n",
    "    Recibe un número y devuelve el cuadrado del mismo.\n",
    "    \"\"\"\n",
    "    print(\"Argumento: {:.4f}\".format(x))\n",
    "    return x * x"
   ]
  },
  {
   "cell_type": "markdown",
   "metadata": {},
   "source": [
    "Aquí, usamos la palabra reservada (*keyword*) `def` para definir una función denominada `miPrimerFuncion`, que recibe un argumento delimitado por paréntesis.\n",
    "\n",
    "Luego sigue una *string* que **documenta** la función, explicando qué hace, qué argumentos recibe y que resultados devuelve. Este sistema de documentación de Python se denomina **_Docstrings_**, y provee una forma conveniente de asociar documentación con módulos, funciones, clases y métodos. \n",
    "\n",
    "Una *docstring* es una string literal que aparece en la primera línea en un módulo, función, clase o definición de método, y debe describir lo que la función hace, pero no cómo. \n",
    "\n",
    "Las *docstrings* son accesibles a través del atributo `doc` de cualquier objeto de Python, o de la función `help()`:"
   ]
  },
  {
   "cell_type": "code",
   "execution_count": 7,
   "metadata": {},
   "outputs": [
    {
     "name": "stdout",
     "output_type": "stream",
     "text": [
      "Esta es mi primera función\n",
      "    Recibe un número y devuelve el cuadrado del mismo.\n",
      "    \n"
     ]
    }
   ],
   "source": [
    "print(miPrimeraFuncion.__doc__)"
   ]
  },
  {
   "cell_type": "code",
   "execution_count": 8,
   "metadata": {},
   "outputs": [
    {
     "name": "stdout",
     "output_type": "stream",
     "text": [
      "Help on function miPrimeraFuncion in module __main__:\n",
      "\n",
      "miPrimeraFuncion(x)\n",
      "    Esta es mi primera función\n",
      "    Recibe un número y devuelve el cuadrado del mismo.\n",
      "\n"
     ]
    }
   ],
   "source": [
    "help(miPrimeraFuncion)"
   ]
  },
  {
   "cell_type": "code",
   "execution_count": null,
   "metadata": {},
   "outputs": [],
   "source": []
  }
 ],
 "metadata": {
  "kernelspec": {
   "display_name": "Python 3",
   "language": "python",
   "name": "python3"
  },
  "language_info": {
   "codemirror_mode": {
    "name": "ipython",
    "version": 3
   },
   "file_extension": ".py",
   "mimetype": "text/x-python",
   "name": "python",
   "nbconvert_exporter": "python",
   "pygments_lexer": "ipython3",
   "version": "3.7.3"
  }
 },
 "nbformat": 4,
 "nbformat_minor": 2
}
