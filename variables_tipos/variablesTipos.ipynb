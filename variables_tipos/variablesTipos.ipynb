{
 "cells": [
  {
   "cell_type": "markdown",
   "metadata": {},
   "source": [
    "# Variables y tipos de datos\n",
    "\n",
    "Ejecutar este documento en forma dinámica: [![Binder](https://mybinder.org/badge_logo.svg)](https://mybinder.org/v2/gh/manuxch/intro2prog/master?filepath=variables_tipos/variablesTipos.ipynb)"
   ]
  },
  {
   "cell_type": "markdown",
   "metadata": {},
   "source": [
    "## Nombres de variables\n",
    "\n",
    "Los nombres de las variables en Python pueden contener caracteres alfanuméricos `a-z`, `A-Z`, `0-9` y algunos caracteres especiales como `_`. Normalmente los nombres de variables comienzan con una letra.\n",
    "\n",
    "Por convención, los nombres de las variables comienzan con minúsculas, reservándose el comienzo con mayúsculas para los nombres de las clases (veremos algo de orientación a objetos más adelante).\n",
    "\n",
    "Por otra parte, hay un número de palabras clave, o *keywords*, que no pueden utilizarse como nombres de variables. Estas keywords son:\n",
    "\n",
    "> and, as, assert, break, class, continue, def, del, elif, else, except, \n",
    "> exec, finally, for, from, global, if, import, in, is, lambda, not, or,\n",
    "> pass, print, raise, return, try, while, with, yield\n",
    "\n",
    "**Nota**: tener cuidado con la keyword `lambda`, que puede ser un nombre de variable natural en un programa científico, pero al ser una keyword no puede utilizarse de ese modo.\n"
   ]
  },
  {
   "cell_type": "markdown",
   "metadata": {},
   "source": [
    "## Asignación de variables\n",
    "\n",
    "El operador de asignación en Python es `=`. Dado que Python es un lenguaje dinámicamente tipado, no es necesario especificar el tipo de la variable al crear una. \n",
    "\n",
    "Asignar un valor a una nueva variable **crea** dicha variable:"
   ]
  },
  {
   "cell_type": "code",
   "execution_count": 1,
   "metadata": {},
   "outputs": [],
   "source": [
    "# Asignación de variables\n",
    "x = 1.0\n",
    "mi_variable = 13.31"
   ]
  },
  {
   "cell_type": "markdown",
   "metadata": {},
   "source": [
    "Aunque no lo especifiquemos explícitamente, una variable tiene un tipo asociado con ella. El tipo se deriva del valor que se le asigna:"
   ]
  },
  {
   "cell_type": "code",
   "execution_count": 2,
   "metadata": {},
   "outputs": [
    {
     "data": {
      "text/plain": [
       "float"
      ]
     },
     "execution_count": 2,
     "metadata": {},
     "output_type": "execute_result"
    }
   ],
   "source": [
    "type(x)"
   ]
  },
  {
   "cell_type": "markdown",
   "metadata": {},
   "source": [
    "Si asignamos un nuevo valor a una variable, su tipo puede cambiar:"
   ]
  },
  {
   "cell_type": "code",
   "execution_count": 3,
   "metadata": {},
   "outputs": [
    {
     "data": {
      "text/plain": [
       "int"
      ]
     },
     "execution_count": 3,
     "metadata": {},
     "output_type": "execute_result"
    }
   ],
   "source": [
    "x = 1\n",
    "type(x)"
   ]
  },
  {
   "cell_type": "markdown",
   "metadata": {},
   "source": [
    "Si queremos utilizar una variable que aún no ha sido definida, obtendremos un error de nombre (`NameError`):"
   ]
  },
  {
   "cell_type": "code",
   "execution_count": 4,
   "metadata": {},
   "outputs": [
    {
     "ename": "NameError",
     "evalue": "name 'y' is not defined",
     "output_type": "error",
     "traceback": [
      "\u001b[0;31m---------------------------------------------------------------------------\u001b[0m",
      "\u001b[0;31mNameError\u001b[0m                                 Traceback (most recent call last)",
      "\u001b[0;32m<ipython-input-4-d9183e048de3>\u001b[0m in \u001b[0;36m<module>\u001b[0;34m()\u001b[0m\n\u001b[0;32m----> 1\u001b[0;31m \u001b[0mprint\u001b[0m\u001b[0;34m(\u001b[0m\u001b[0my\u001b[0m\u001b[0;34m)\u001b[0m\u001b[0;34m\u001b[0m\u001b[0;34m\u001b[0m\u001b[0m\n\u001b[0m",
      "\u001b[0;31mNameError\u001b[0m: name 'y' is not defined"
     ]
    }
   ],
   "source": [
    "print(y)"
   ]
  },
  {
   "cell_type": "markdown",
   "metadata": {},
   "source": [
    "## Tipos fundamentales\n"
   ]
  },
  {
   "cell_type": "markdown",
   "metadata": {},
   "source": [
    "En Python, un tipo consiste en dos cosas:\n",
    "\n",
    "- Un conjunto de valores.\n",
    "- Un conjunto de operaciones que pueden aplicarse a esos valores."
   ]
  },
  {
   "cell_type": "markdown",
   "metadata": {},
   "source": [
    "### Evaluación de verdadero o falso\n",
    "\n",
    "Cualquier objeto puede ser evaluado verdadero o falos, para ser utilizado como condición para un bloque de repetición de intrucciones `if` o `while`, o como operando de las operaciones booleanas (ver más abajo).\n",
    "\n",
    "Por defecto, un objeto es considerado verdadero (`True`) a menos que su clase defina un método `__bool__()` que devuelva falso (`False`) o un método `__len__()` que devuelva cero, cuando se invoquen sobre el objeto. Una lista de la mayoría de los objetos *built-in* considerados falso es la siguiente:\n",
    "\n",
    "- Constantes definidas como falsas: `None` y `False`\n",
    "- Cero de cualquier tipo numérico: `0`, `0.0`, `0j`, `Decimal(0)`, `Fraction(0,1)`\n",
    "- Secuencias y colecciones vacías: `''`, `()`, `[]`, `{}`, `set()`, `range(0)`\n",
    "\n",
    "Las operaciones y funciones *built-in* que tienen un resultado booleano siempre devuelven `0` o `False` para falso y `1` o `True`."
   ]
  },
  {
   "cell_type": "markdown",
   "metadata": {},
   "source": [
    "### Tipos numéricos\n",
    "\n",
    "Python provee tres tipos numéricos distintos: **enteros** (`int`), de **punto flotante** (`float`) y **números complejos** (`complex`). Además, los valores lógicos booleanos (`bool`) son un subtipo de los enteros. Los enteros tienen precisión ilimitada, mientras que los `float` son usualmente representados usando el tipo `double` en C, la información sobre la precisión y representación interna de los números `float` en cada máquina puede obtenerse en `sys.float_info`:"
   ]
  },
  {
   "cell_type": "code",
   "execution_count": 22,
   "metadata": {},
   "outputs": [
    {
     "name": "stdout",
     "output_type": "stream",
     "text": [
      "sys.float_info(max=1.7976931348623157e+308, max_exp=1024, max_10_exp=308, min=2.2250738585072014e-308, min_exp=-1021, min_10_exp=-307, dig=15, mant_dig=53, epsilon=2.220446049250313e-16, radix=2, rounds=1)\n"
     ]
    }
   ],
   "source": [
    "import sys\n",
    "print(sys.float_info)"
   ]
  },
  {
   "cell_type": "markdown",
   "metadata": {},
   "source": [
    "Los números son creados mediante literales numéricos o como resultado de funciones *built-in* y operadores. Literales enteros sin \"adornos\" producen enteros, los que contienen un punto decimal o un signo de exponente producen `float`s, y agregando una `j` o `J` a un literal numérico obtenemos un número imaginario (complejo con parte real nula).\n",
    "\n",
    "Python soporta aritmética mixta: cuando un operador aritmético binario tiene operandos de tipos numéricos diferentes, el operando con el tipo más \"restringido\" se expande al tipo del otro operando. El `int` es más restringido que el `float`, que a su vez es más restringido que el `complex`.\n",
    "\n",
    "Todos los tipos numéricos (excepto los complejos) suportan las siguientes operaciones, ordenadas por prioridad ascendente:\n",
    "\n",
    "Operación | Resultado | Notas\n",
    ":--- | :---: | :---\n",
    "`x + y` | $x + y$ |\n",
    "`x - y` | $x - y$ |\n",
    "`x * y` | $x y $ |\n",
    "`x / y` | $x/y$ |\n",
    "`x // y` | división entera de $x$ y $y$ | (1)\n",
    "`x % y` | resto de $x$ y $y$ | (2)\n",
    "`-x` | $-x$ |\n",
    "`abs(x)` | $|x|$ |\n",
    "`int(x)` | $x$ convertido a `int`| (3)(6)\n",
    "`float(x)` | $x$ convertido a `float` | (4)(6)\n",
    "`complex(x, y)` | $x + y i$ | (6)\n",
    "`c.conjugate()` | conjugado de $c$ |\n",
    "`divmod(x, y)` | el par `(x // y), (x % y)` | (2)\n",
    "`pow(x, y)` | $x^y$ | (5)\n",
    "`x ** y` | $x^y$ | (5)\n",
    "\n",
    "\n",
    "\n"
   ]
  },
  {
   "cell_type": "code",
   "execution_count": 2,
   "metadata": {},
   "outputs": [
    {
     "data": {
      "text/plain": [
       "int"
      ]
     },
     "execution_count": 2,
     "metadata": {},
     "output_type": "execute_result"
    }
   ],
   "source": [
    "x, y = 1, 3\n",
    "type(y)"
   ]
  },
  {
   "cell_type": "code",
   "execution_count": 3,
   "metadata": {},
   "outputs": [
    {
     "data": {
      "text/plain": [
       "4"
      ]
     },
     "execution_count": 3,
     "metadata": {},
     "output_type": "execute_result"
    }
   ],
   "source": [
    "x + y"
   ]
  },
  {
   "cell_type": "code",
   "execution_count": 4,
   "metadata": {},
   "outputs": [
    {
     "data": {
      "text/plain": [
       "-2"
      ]
     },
     "execution_count": 4,
     "metadata": {},
     "output_type": "execute_result"
    }
   ],
   "source": [
    "x - y"
   ]
  },
  {
   "cell_type": "code",
   "execution_count": 5,
   "metadata": {},
   "outputs": [
    {
     "data": {
      "text/plain": [
       "3"
      ]
     },
     "execution_count": 5,
     "metadata": {},
     "output_type": "execute_result"
    }
   ],
   "source": [
    "x * y"
   ]
  },
  {
   "cell_type": "markdown",
   "metadata": {},
   "source": [
    "La división de dos enteros produce como resultado un valor `float`:"
   ]
  },
  {
   "cell_type": "code",
   "execution_count": 23,
   "metadata": {},
   "outputs": [
    {
     "name": "stdout",
     "output_type": "stream",
     "text": [
      "0.3333333333333333\n"
     ]
    },
    {
     "data": {
      "text/plain": [
       "float"
      ]
     },
     "execution_count": 23,
     "metadata": {},
     "output_type": "execute_result"
    }
   ],
   "source": [
    "z = x / y\n",
    "print(z)\n",
    "type(z)"
   ]
  },
  {
   "cell_type": "markdown",
   "metadata": {},
   "source": [
    "La división entera `//` devuelve un entero, que siempre se redondea hacia $-\\infty$:"
   ]
  },
  {
   "cell_type": "code",
   "execution_count": 11,
   "metadata": {},
   "outputs": [
    {
     "name": "stdout",
     "output_type": "stream",
     "text": [
      "0\n"
     ]
    },
    {
     "data": {
      "text/plain": [
       "int"
      ]
     },
     "execution_count": 11,
     "metadata": {},
     "output_type": "execute_result"
    }
   ],
   "source": [
    "z = x // y\n",
    "print(z)\n",
    "type(z)"
   ]
  },
  {
   "cell_type": "code",
   "execution_count": 14,
   "metadata": {},
   "outputs": [
    {
     "data": {
      "text/plain": [
       "-1"
      ]
     },
     "execution_count": 14,
     "metadata": {},
     "output_type": "execute_result"
    }
   ],
   "source": [
    "(-1) // 2"
   ]
  },
  {
   "cell_type": "code",
   "execution_count": 15,
   "metadata": {},
   "outputs": [
    {
     "data": {
      "text/plain": [
       "-1"
      ]
     },
     "execution_count": 15,
     "metadata": {},
     "output_type": "execute_result"
    }
   ],
   "source": [
    "1 // (-2)"
   ]
  },
  {
   "cell_type": "code",
   "execution_count": 16,
   "metadata": {},
   "outputs": [
    {
     "data": {
      "text/plain": [
       "0"
      ]
     },
     "execution_count": 16,
     "metadata": {},
     "output_type": "execute_result"
    }
   ],
   "source": [
    "(-1) // (-2)"
   ]
  },
  {
   "cell_type": "markdown",
   "metadata": {},
   "source": [
    "El resto de una división se obtiene con `%`, y devuelve un entero:"
   ]
  },
  {
   "cell_type": "code",
   "execution_count": 21,
   "metadata": {},
   "outputs": [
    {
     "name": "stdout",
     "output_type": "stream",
     "text": [
      "0\n"
     ]
    },
    {
     "data": {
      "text/plain": [
       "int"
      ]
     },
     "execution_count": 21,
     "metadata": {},
     "output_type": "execute_result"
    }
   ],
   "source": [
    "z = y % x\n",
    "print(z)\n",
    "type(z)"
   ]
  },
  {
   "cell_type": "markdown",
   "metadata": {},
   "source": [
    "Los números complejos tienen una parte real y una imaginaria y cada una de ellas es `float`. Para extraer cada componente de un número complejo `z`, se usa `z.real` y `z.imag`. "
   ]
  }
 ],
 "metadata": {
  "kernelspec": {
   "display_name": "Python 3",
   "language": "python",
   "name": "python3"
  },
  "language_info": {
   "codemirror_mode": {
    "name": "ipython",
    "version": 3
   },
   "file_extension": ".py",
   "mimetype": "text/x-python",
   "name": "python",
   "nbconvert_exporter": "python",
   "pygments_lexer": "ipython3",
   "version": "3.7.3rc1"
  }
 },
 "nbformat": 4,
 "nbformat_minor": 2
}
