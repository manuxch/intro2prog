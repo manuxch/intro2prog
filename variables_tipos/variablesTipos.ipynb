{
 "cells": [
  {
   "cell_type": "markdown",
   "metadata": {},
   "source": [
    "# Variables y tipos de datos\n",
    "\n",
    "Ejecutar este documento en forma dinámica: [![Binder](https://mybinder.org/badge_logo.svg)](https://mybinder.org/v2/gh/manuxch/intro2prog/master?filepath=variables_tipos/variablesTipos.ipynb)"
   ]
  },
  {
   "cell_type": "markdown",
   "metadata": {},
   "source": [
    "## Nombres de variables\n",
    "\n",
    "Los nombres de las variables en Python pueden contener caracteres alfanuméricos `a-z`, `A-Z`, `0-9` y algunos caracteres especiales como `_`. Normalmente los nombres de variables comienzan con una letra.\n",
    "\n",
    "Por convención, los nombres de las variables comienzan con minúsculas, reservándose el comienzo con mayúsculas para los nombres de las clases (veremos algo de orientación a objetos más adelante).\n",
    "\n",
    "Por otra parte, hay un número de palabras clave, o *keywords*, que no pueden utilizarse como nombres de variables. Estas keywords son:\n",
    "\n",
    "> and, as, assert, break, class, continue, def, del, elif, else, except, \n",
    "> exec, finally, for, from, global, if, import, in, is, lambda, not, or,\n",
    "> pass, print, raise, return, try, while, with, yield\n",
    "\n",
    "**Nota**: tener cuidado con la keyword `lambda`, que puede ser un nombre de variable natural en un programa científico, pero al ser una keyword no puede utilizarse de ese modo.\n"
   ]
  },
  {
   "cell_type": "markdown",
   "metadata": {},
   "source": [
    "## Asignación de variables\n",
    "\n",
    "El operador de asignación en Python es `=`. Dado que Python es un lenguaje dinámicamente tipado, no es necesario especificar el tipo de la variable al crear una. \n",
    "\n",
    "Asignar un valor a una nueva variable **crea** dicha variable:"
   ]
  },
  {
   "cell_type": "code",
   "execution_count": 1,
   "metadata": {},
   "outputs": [],
   "source": [
    "# Asignación de variables\n",
    "x = 1.0\n",
    "mi_variable = 13.31"
   ]
  },
  {
   "cell_type": "markdown",
   "metadata": {},
   "source": [
    "Aunque no lo especifiquemos explícitamente, una variable tiene un tipo asociado con ella. El tipo se deriva del valor que se le asigna:"
   ]
  },
  {
   "cell_type": "code",
   "execution_count": 2,
   "metadata": {},
   "outputs": [
    {
     "data": {
      "text/plain": [
       "float"
      ]
     },
     "execution_count": 2,
     "metadata": {},
     "output_type": "execute_result"
    }
   ],
   "source": [
    "type(x)"
   ]
  },
  {
   "cell_type": "markdown",
   "metadata": {},
   "source": [
    "Si asignamos un nuevo valor a una variable, su tipo puede cambiar:"
   ]
  },
  {
   "cell_type": "code",
   "execution_count": 3,
   "metadata": {},
   "outputs": [
    {
     "data": {
      "text/plain": [
       "int"
      ]
     },
     "execution_count": 3,
     "metadata": {},
     "output_type": "execute_result"
    }
   ],
   "source": [
    "x = 1\n",
    "type(x)"
   ]
  },
  {
   "cell_type": "markdown",
   "metadata": {},
   "source": [
    "Si queremos utilizar una variable que aún no ha sido definida, obtendremos un error de nombre (`NameError`):"
   ]
  },
  {
   "cell_type": "code",
   "execution_count": 4,
   "metadata": {},
   "outputs": [
    {
     "ename": "NameError",
     "evalue": "name 'y' is not defined",
     "output_type": "error",
     "traceback": [
      "\u001b[0;31m---------------------------------------------------------------------------\u001b[0m",
      "\u001b[0;31mNameError\u001b[0m                                 Traceback (most recent call last)",
      "\u001b[0;32m<ipython-input-4-d9183e048de3>\u001b[0m in \u001b[0;36m<module>\u001b[0;34m()\u001b[0m\n\u001b[0;32m----> 1\u001b[0;31m \u001b[0mprint\u001b[0m\u001b[0;34m(\u001b[0m\u001b[0my\u001b[0m\u001b[0;34m)\u001b[0m\u001b[0;34m\u001b[0m\u001b[0;34m\u001b[0m\u001b[0m\n\u001b[0m",
      "\u001b[0;31mNameError\u001b[0m: name 'y' is not defined"
     ]
    }
   ],
   "source": [
    "print(y)"
   ]
  },
  {
   "cell_type": "markdown",
   "metadata": {},
   "source": [
    "## Tipos fundamentales\n"
   ]
  },
  {
   "cell_type": "code",
   "execution_count": null,
   "metadata": {},
   "outputs": [],
   "source": []
  },
  {
   "cell_type": "code",
   "execution_count": null,
   "metadata": {},
   "outputs": [],
   "source": []
  }
 ],
 "metadata": {
  "kernelspec": {
   "display_name": "Python 3",
   "language": "python",
   "name": "python3"
  },
  "language_info": {
   "codemirror_mode": {
    "name": "ipython",
    "version": 3
   },
   "file_extension": ".py",
   "mimetype": "text/x-python",
   "name": "python",
   "nbconvert_exporter": "python",
   "pygments_lexer": "ipython3",
   "version": "3.7.3rc1"
  }
 },
 "nbformat": 4,
 "nbformat_minor": 2
}
